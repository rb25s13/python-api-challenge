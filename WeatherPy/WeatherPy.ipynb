{
 "cells": [
  {
   "cell_type": "markdown",
   "source": [
    "# WeatherPy\n",
    "----\n",
    "\n",
    "#### Note\n",
    "* Instructions have been included for each segment. You do not have to follow them exactly, but they are included to help you think through the steps."
   ],
   "metadata": {}
  },
  {
   "cell_type": "code",
   "execution_count": null,
   "source": [
    "# Dependencies and Setup\r\n",
    "import matplotlib.pyplot as plt\r\n",
    "import pandas as pd\r\n",
    "import numpy as np\r\n",
    "import requests\r\n",
    "import time\r\n",
    "from scipy.stats import linregress\r\n",
    "import os\r\n",
    "import csv\r\n",
    "\r\n",
    "# Import API key\r\n",
    "from api_keys import weather_api_key\r\n",
    "\r\n",
    "# Incorporated citipy to determine city based on latitude and longitude\r\n",
    "from citipy import citipy\r\n",
    "\r\n",
    "# Output File (CSV)\r\n",
    "output_data_file = \"../output_data/cities.csv\"\r\n",
    "\r\n",
    "# Range of latitudes and longitudes\r\n",
    "lat_range = (-90, 90)\r\n",
    "lng_range = (-180, 180)"
   ],
   "outputs": [],
   "metadata": {
    "scrolled": true
   }
  },
  {
   "cell_type": "markdown",
   "source": [
    "## Generate Cities List"
   ],
   "metadata": {}
  },
  {
   "cell_type": "code",
   "execution_count": null,
   "source": [
    "# List for holding lat_lngs and cities\r\n",
    "lat_lngs = []\r\n",
    "cities = []\r\n",
    "\r\n",
    "# Create a set of random lat and lng combinations\r\n",
    "lats = np.random.uniform(lat_range[0], lat_range[1], size=1500)\r\n",
    "lngs = np.random.uniform(lng_range[0], lng_range[1], size=1500)\r\n",
    "lat_lngs = zip(lats, lngs)\r\n",
    "\r\n",
    "# Identify nearest city for each lat, lng combination\r\n",
    "for lat_lng in lat_lngs:\r\n",
    "    city = citipy.nearest_city(lat_lng[0], lat_lng[1]).city_name\r\n",
    "    \r\n",
    "    # If the city is unique, then add it to a our cities list\r\n",
    "    if city not in cities:\r\n",
    "        cities.append(city)\r\n",
    "\r\n",
    "# Print the city count to confirm sufficient count\r\n",
    "len(cities)"
   ],
   "outputs": [],
   "metadata": {}
  },
  {
   "cell_type": "markdown",
   "source": [
    "### Perform API Calls\n",
    "* Perform a weather check on each city using a series of successive API calls.\n",
    "* Include a print log of each city as it'sbeing processed (with the city number and city name).\n"
   ],
   "metadata": {}
  },
  {
   "cell_type": "code",
   "execution_count": null,
   "source": [
    "# Save config information.\r\n",
    "url = \"http://api.openweathermap.org/data/2.5/weather?\"\r\n",
    "units = \"imperial\"\r\n",
    "\r\n",
    "# Build partial query URL\r\n",
    "query_url = f\"{url}appid={weather_api_key}&units={units}&q=\"\r\n",
    "\r\n",
    "city_name = []\r\n",
    "lat = []\r\n",
    "lng = []\r\n",
    "temp_max = []\r\n",
    "humidity = []\r\n",
    "clouds = []\r\n",
    "wind = []\r\n",
    "country = []\r\n",
    "date = []\r\n",
    "\r\n",
    "count = 0\r\n",
    "total = 1\r\n",
    "setno = 1\r\n",
    "print(f'Beginning Data Retrieval\\n-----------------------------')\r\n",
    "for city in cities:\r\n",
    "\r\n",
    "    response = requests.get(query_url + city).json()\r\n",
    "\r\n",
    "    try:\r\n",
    "        city_name.append(response['name'])\r\n",
    "        lat.append(response['coord']['lat'])\r\n",
    "        lng.append(response['coord']['lon'])\r\n",
    "        temp_max.append(response['main']['temp_max'])\r\n",
    "        humidity.append(response['main']['humidity'])\r\n",
    "        clouds.append(response['clouds']['all'])\r\n",
    "        wind.append(response['wind']['speed'])\r\n",
    "        country.append(response['sys']['country'])\r\n",
    "        date.append(response['dt'])\r\n",
    "\r\n",
    "        print(f\"Processing Record {count} of Set {setno} | {total} | {city}\")\r\n",
    "        count += 1\r\n",
    "        total += 1\r\n",
    "        if count % 50 == 0:\r\n",
    "            setno += 1\r\n",
    "            count = 0\r\n",
    "    # Handle exceptions\r\n",
    "    except:\r\n",
    "        # Append null values\r\n",
    "        print(\"City not found. Skipping...\")\r\n",
    "print(f'-----------------------------\\nTotal Records Processed: {total}\\n-----------------------------\\n')\r\n",
    "print(f'-----------------------------\\nData Retrieval Complete\\n-----------------------------\\n')\r\n"
   ],
   "outputs": [],
   "metadata": {
    "scrolled": true
   }
  },
  {
   "cell_type": "markdown",
   "source": [
    "### Convert Raw Data to DataFrame\n",
    "* Export the city data into a .csv.\n",
    "* Display the DataFrame"
   ],
   "metadata": {}
  },
  {
   "cell_type": "code",
   "execution_count": null,
   "source": [
    "# create dataframe\r\n",
    "cities_dict = {\r\n",
    "            'City': city_name,\r\n",
    "            'Lat': lat,\r\n",
    "            'Lng': lng,\r\n",
    "            'Max Temp': temp_max,\r\n",
    "            'Humidity': humidity,\r\n",
    "            'Cloudiness': clouds,\r\n",
    "            'Wind Speed': wind,\r\n",
    "            'Country': country,\r\n",
    "            'Date': date,\r\n",
    "}\r\n",
    "show_dict = pd.DataFrame(cities_dict)\r\n",
    "show_dict.head(20)"
   ],
   "outputs": [],
   "metadata": {}
  },
  {
   "cell_type": "code",
   "execution_count": null,
   "source": [
    "cs = show_dict[['Lat', 'Lng', 'Max Temp', 'Humidity', 'Cloudiness','Wind Speed', 'Date']]\r\n",
    "quartiles = cs.quantile([0.25, 0.5,0.75])\r\n",
    "cities_stats = cs.aggregate(['count','mean','std', 'min','max'])\r\n",
    "cities_stats = cities_stats.append(quartiles)\r\n",
    "cities_stats.index = ['count', 'mean', 'std', 'min', '0.25', '0.5', '0.75', 'max']\r\n",
    "cities_stats = cities_stats.rename(index={'0.25': '25%', '0.5': '50%', '0.75': '75%'})\r\n",
    "cities_stats"
   ],
   "outputs": [],
   "metadata": {}
  },
  {
   "cell_type": "markdown",
   "source": [
    "## Inspect the data and remove the cities where the humidity > 100%.\n",
    "----\n",
    "Skip this step if there are no cities that have humidity > 100%. "
   ],
   "metadata": {}
  },
  {
   "cell_type": "code",
   "execution_count": null,
   "source": [
    "over_hun = show_dict[show_dict['Humidity'] > 100]\r\n",
    "print(f'Amount of cities with humidity over 100%: {len(over_hun)}')\r\n",
    "\r\n",
    "show_dict = show_dict.drop(over_hun.index,inplace=False)\r\n",
    "show_dict"
   ],
   "outputs": [],
   "metadata": {}
  },
  {
   "cell_type": "code",
   "execution_count": null,
   "source": [
    "qts = show_dict['Humidity'].quantile([0.25, 0.5,0.75])\r\n",
    "# set lower quartile\r\n",
    "lowerq = qts[0.25]\r\n",
    "# set upper quartile\r\n",
    "upperq = qts[0.75]\r\n",
    "# calculate interquartile range\r\n",
    "iqr = upperq-lowerq\r\n",
    "# calculate the lower bound\r\n",
    "lower_bound = lowerq - (1.5*iqr)\r\n",
    "# calculate the upper bound\r\n",
    "upper_bound = upperq + (1.5*iqr)\r\n",
    "\r\n",
    "outliers = show_dict[(show_dict['Humidity'] < lower_bound) | (show_dict['Humidity'] > upper_bound)]\r\n",
    "outliers_list = outliers.index\r\n",
    "outliers_df = show_dict.iloc[outliers_list]\r\n",
    "outliers_df"
   ],
   "outputs": [],
   "metadata": {}
  },
  {
   "cell_type": "code",
   "execution_count": null,
   "source": [
    "# Make a new DataFrame equal to the city data to drop all humidity outliers by index.\r\n",
    "# Passing \"inplace=False\" will make a copy of the city_data DataFrame, which we call \"clean_city_data\".\r\n",
    "\r\n",
    "clean_city_data = show_dict.drop(outliers_df.index,inplace=False)\r\n",
    "\r\n",
    "# # export output to txt file\r\n",
    "# #\r\n",
    "clean_city_data.to_csv(output_data_file, index=False, encoding=\"utf-8\")\r\n",
    "clean_city_data\r\n"
   ],
   "outputs": [],
   "metadata": {}
  },
  {
   "cell_type": "markdown",
   "source": [
    "## Plotting the Data\n",
    "* Use proper labeling of the plots using plot titles (including date of analysis) and axes labels.\n",
    "* Save the plotted figures as .pngs."
   ],
   "metadata": {}
  },
  {
   "cell_type": "markdown",
   "source": [
    "## Latitude vs. Temperature Plot"
   ],
   "metadata": {}
  },
  {
   "cell_type": "code",
   "execution_count": null,
   "source": [
    "clean_city_data.plot(kind='scatter', x='Lat', y='Max Temp',grid=True, title=\"City Latitude vs. Max Temperature\",edgecolors='black', s=35)\r\n",
    "plt.xlabel('Latitude')\r\n",
    "plt.ylabel('Max Temperature (°F)')\r\n",
    "plt.savefig(\"../output_data/City Latitude vs. Max Temperature.png\")\r\n",
    "plt.show()"
   ],
   "outputs": [],
   "metadata": {
    "scrolled": true
   }
  },
  {
   "cell_type": "markdown",
   "source": [
    "## Latitude vs. Humidity Plot"
   ],
   "metadata": {}
  },
  {
   "cell_type": "code",
   "execution_count": null,
   "source": [
    "clean_city_data.plot(kind='scatter', x='Lat', y='Humidity',grid=True, title=\"City Latitude vs. Humidity\",edgecolors='black',s=35)\r\n",
    "plt.xlabel('Latitude')\r\n",
    "plt.ylabel('Humidity')\r\n",
    "plt.savefig(\"../output_data/City Latitude vs. Humidity.png\")\r\n",
    "plt.show()"
   ],
   "outputs": [],
   "metadata": {}
  },
  {
   "cell_type": "markdown",
   "source": [
    "## Latitude vs. Cloudiness Plot"
   ],
   "metadata": {}
  },
  {
   "cell_type": "code",
   "execution_count": null,
   "source": [
    "clean_city_data.plot(kind='scatter', x='Lat', y='Cloudiness',grid=True, title=\"City Latitude vs. Cloudiness\",edgecolors='black',s=35)\r\n",
    "plt.xlabel('Latitude')\r\n",
    "plt.ylabel('Cloudiness')\r\n",
    "plt.savefig(\"../output_data/City Latitude vs. Cloudiness.png\")\r\n",
    "plt.show()"
   ],
   "outputs": [],
   "metadata": {}
  },
  {
   "cell_type": "markdown",
   "source": [
    "## Latitude vs. Wind Speed Plot"
   ],
   "metadata": {}
  },
  {
   "cell_type": "code",
   "execution_count": null,
   "source": [
    "clean_city_data.plot(kind='scatter', x='Lat', y='Wind Speed',grid=True, title=\"City Latitude vs. Wind Speed\",edgecolors='black',s=35)\r\n",
    "plt.xlabel('Latitude')\r\n",
    "plt.ylabel('Wind Speed')\r\n",
    "plt.savefig(\"../output_data/City Latitude vs. Wind Speed.png\")\r\n",
    "plt.show()"
   ],
   "outputs": [],
   "metadata": {}
  },
  {
   "cell_type": "markdown",
   "source": [
    "## Linear Regression"
   ],
   "metadata": {}
  },
  {
   "cell_type": "code",
   "execution_count": null,
   "source": [
    "nh = clean_city_data[clean_city_data['Lat'] >= 0]\r\n",
    "sh = clean_city_data[clean_city_data['Lat'] < 0]"
   ],
   "outputs": [],
   "metadata": {}
  },
  {
   "cell_type": "markdown",
   "source": [
    "####  Northern Hemisphere - Max Temp vs. Latitude Linear Regression"
   ],
   "metadata": {}
  },
  {
   "cell_type": "code",
   "execution_count": null,
   "source": [
    "# set x and y values\r\n",
    "x_values = nh['Lat']\r\n",
    "y_values = nh['Max Temp']\r\n",
    "# linear regression\r\n",
    "(slope, intercept, rvalue, pvalue, stderr) = linregress(x_values, y_values)\r\n",
    "# variable for calculation of regression line\r\n",
    "regress_values = x_values * slope + intercept\r\n",
    "# variable for equation of slope intercept\r\n",
    "line_eq = \"y = \" + str(round(slope,2)) + \"x + \" + str(round(intercept,2))\r\n",
    "print(f\"The r-value is: {rvalue}\")\r\n",
    "# scatter plot of weight and average tumor volume\r\n",
    "plt.scatter(x_values,y_values, edgecolors='black',s=35)\r\n",
    "# plot the line of the slope intercept equation\r\n",
    "plt.plot(x_values,regress_values,\"red\")\r\n",
    "# style the box for the equation\r\n",
    "le_bbox = dict(boxstyle=\"round,pad=0.5\", fc=\"w\", ec=\"k\", lw=1)\r\n",
    "# add the equation to the plot\r\n",
    "plt.annotate(line_eq,\r\n",
    "            xy=(0, 1.5),\r\n",
    "            xycoords='axes fraction',\r\n",
    "            xytext=(0.7, -.2),\r\n",
    "            bbox=le_bbox)\r\n",
    "# set the title and axis labels\r\n",
    "plt.xlabel('Latitude')\r\n",
    "plt.ylabel('Max Temperature (°F)')\r\n",
    "plt.title('Northern Hemisphere - Max Temp vs. Latitude\\n with Linear Regression')\r\n",
    "plt.savefig(\"../output_data/Northern Hemisphere - Max Temp vs. Latitude Linear Regression.png\")\r\n",
    "plt.show()\r\n"
   ],
   "outputs": [],
   "metadata": {}
  },
  {
   "cell_type": "markdown",
   "source": [
    "####  Southern Hemisphere - Max Temp vs. Latitude Linear Regression"
   ],
   "metadata": {}
  },
  {
   "cell_type": "code",
   "execution_count": null,
   "source": [
    "# set x and y values\r\n",
    "x_values = sh['Lat']\r\n",
    "y_values = sh['Max Temp']\r\n",
    "# linear regression\r\n",
    "(slope, intercept, rvalue, pvalue, stderr) = linregress(x_values, y_values)\r\n",
    "# variable for calculation of regression line\r\n",
    "regress_values = x_values * slope + intercept\r\n",
    "# variable for equation of slope intercept\r\n",
    "line_eq = \"y = \" + str(round(slope,2)) + \"x + \" + str(round(intercept,2))\r\n",
    "print(f\"The r-value is: {rvalue}\")\r\n",
    "# scatter plot of weight and average tumor volume\r\n",
    "plt.scatter(x_values,y_values, edgecolors='black',s=35)\r\n",
    "# plot the line of the slope intercept equation\r\n",
    "plt.plot(x_values,regress_values,\"red\")\r\n",
    "# style the box for the equation\r\n",
    "le_bbox = dict(boxstyle=\"round,pad=0.5\", fc=\"w\", ec=\"k\", lw=1)\r\n",
    "# add the equation to the plot\r\n",
    "plt.annotate(line_eq,\r\n",
    "            xy=(0, 1.5),\r\n",
    "            xycoords='axes fraction',\r\n",
    "            xytext=(0.7, -.2),\r\n",
    "            bbox=le_bbox)\r\n",
    "# set the title and axis labels\r\n",
    "plt.xlabel('Latitude')\r\n",
    "plt.ylabel('Max Temperature (°F)')\r\n",
    "plt.title('Southern Hemisphere - Max Temperature vs. Latitude\\n with Linear Regression')\r\n",
    "plt.savefig(\"../output_data/Southern Hemisphere - Max Temperature vs. Latitude Linear Regression.png\")\r\n",
    "plt.show()"
   ],
   "outputs": [],
   "metadata": {}
  },
  {
   "cell_type": "markdown",
   "source": [
    "####  Northern Hemisphere - Humidity (%) vs. Latitude Linear Regression"
   ],
   "metadata": {}
  },
  {
   "cell_type": "code",
   "execution_count": null,
   "source": [
    "# set x and y values\r\n",
    "x_values = nh['Lat']\r\n",
    "y_values = nh['Humidity']\r\n",
    "# linear regression\r\n",
    "(slope, intercept, rvalue, pvalue, stderr) = linregress(x_values, y_values)\r\n",
    "# variable for calculation of regression line\r\n",
    "regress_values = x_values * slope + intercept\r\n",
    "# variable for equation of slope intercept\r\n",
    "line_eq = \"y = \" + str(round(slope,2)) + \"x + \" + str(round(intercept,2))\r\n",
    "print(f\"The r-value is: {rvalue}\")\r\n",
    "# scatter plot of weight and average tumor volume\r\n",
    "plt.scatter(x_values,y_values, edgecolors='black',s=35)\r\n",
    "# plot the line of the slope intercept equation\r\n",
    "plt.plot(x_values,regress_values,\"red\")\r\n",
    "# style the box for the equation\r\n",
    "le_bbox = dict(boxstyle=\"round,pad=0.5\", fc=\"w\", ec=\"k\", lw=1)\r\n",
    "# add the equation to the plot\r\n",
    "plt.annotate(line_eq,\r\n",
    "            xy=(0, 1.5),\r\n",
    "            xycoords='axes fraction',\r\n",
    "            xytext=(0.7, -.2),\r\n",
    "            bbox=le_bbox)\r\n",
    "# set the title and axis labels\r\n",
    "plt.xlabel('Latitude')\r\n",
    "plt.ylabel('Humidity (%)')\r\n",
    "plt.title('Northern Hemisphere - Humidity (%) vs. Latitude\\n with Linear Regression')\r\n",
    "plt.savefig(\"../output_data/Northern Hemisphere - Humidity (%) vs. Latitude Linear Regression.png\")\r\n",
    "plt.show()"
   ],
   "outputs": [],
   "metadata": {}
  },
  {
   "cell_type": "markdown",
   "source": [
    "####  Southern Hemisphere - Humidity (%) vs. Latitude Linear Regression"
   ],
   "metadata": {}
  },
  {
   "cell_type": "code",
   "execution_count": null,
   "source": [
    "# set x and y values\r\n",
    "x_values = sh['Lat']\r\n",
    "y_values = sh['Humidity']\r\n",
    "# linear regression\r\n",
    "(slope, intercept, rvalue, pvalue, stderr) = linregress(x_values, y_values)\r\n",
    "# variable for calculation of regression line\r\n",
    "regress_values = x_values * slope + intercept\r\n",
    "# variable for equation of slope intercept\r\n",
    "line_eq = \"y = \" + str(round(slope,2)) + \"x + \" + str(round(intercept,2))\r\n",
    "print(f\"The r-value is: {rvalue}\")\r\n",
    "# scatter plot of weight and average tumor volume\r\n",
    "plt.scatter(x_values,y_values, edgecolors='black',s=35)\r\n",
    "# plot the line of the slope intercept equation\r\n",
    "plt.plot(x_values,regress_values,\"red\")\r\n",
    "# style the box for the equation\r\n",
    "le_bbox = dict(boxstyle=\"round,pad=0.5\", fc=\"w\", ec=\"k\", lw=1)\r\n",
    "# add the equation to the plot\r\n",
    "plt.annotate(line_eq,\r\n",
    "            xy=(0, 1.5),\r\n",
    "            xycoords='axes fraction',\r\n",
    "            xytext=(0.7, -.2),\r\n",
    "            bbox=le_bbox)\r\n",
    "# set the title and axis labels\r\n",
    "plt.xlabel('Latitude')\r\n",
    "plt.ylabel('Humidity (%)')\r\n",
    "plt.title('Southern Hemisphere - Humidity (%) vs. Latitude\\n with Linear Regression')\r\n",
    "plt.savefig(\"../output_data/Southern Hemisphere - Humidity (%) vs. Latitude Linear Regression.png\")\r\n",
    "plt.show()"
   ],
   "outputs": [],
   "metadata": {}
  },
  {
   "cell_type": "markdown",
   "source": [
    "####  Northern Hemisphere - Cloudiness (%) vs. Latitude Linear Regression"
   ],
   "metadata": {}
  },
  {
   "cell_type": "code",
   "execution_count": null,
   "source": [
    "# set x and y values\r\n",
    "x_values = nh['Lat']\r\n",
    "y_values = nh['Cloudiness']\r\n",
    "# linear regression\r\n",
    "(slope, intercept, rvalue, pvalue, stderr) = linregress(x_values, y_values)\r\n",
    "# variable for calculation of regression line\r\n",
    "regress_values = x_values * slope + intercept\r\n",
    "# variable for equation of slope intercept\r\n",
    "line_eq = \"y = \" + str(round(slope,2)) + \"x + \" + str(round(intercept,2))\r\n",
    "print(f\"The r-value is: {rvalue}\")\r\n",
    "# scatter plot of weight and average tumor volume\r\n",
    "plt.scatter(x_values,y_values, edgecolors='black',s=35)\r\n",
    "# plot the line of the slope intercept equation\r\n",
    "plt.plot(x_values,regress_values,\"red\")\r\n",
    "# style the box for the equation\r\n",
    "le_bbox = dict(boxstyle=\"round,pad=0.5\", fc=\"w\", ec=\"k\", lw=1)\r\n",
    "# add the equation to the plot\r\n",
    "plt.annotate(line_eq,\r\n",
    "            xy=(0, 1.5),\r\n",
    "            xycoords='axes fraction',\r\n",
    "            xytext=(0.7, -.2),\r\n",
    "            bbox=le_bbox)\r\n",
    "# set the title and axis labels\r\n",
    "plt.xlabel('Latitude')\r\n",
    "plt.ylabel('Cloudiness (%)')\r\n",
    "plt.title('Northern Hemisphere - Cloudiness (%) vs. Latitude\\n with Linear Regression')\r\n",
    "plt.savefig(\"../output_data/Northern Hemisphere - Cloudiness (%) vs. Latitude Linear Regression.png\")\r\n",
    "plt.show()"
   ],
   "outputs": [],
   "metadata": {}
  },
  {
   "cell_type": "markdown",
   "source": [
    "####  Southern Hemisphere - Cloudiness (%) vs. Latitude Linear Regression"
   ],
   "metadata": {}
  },
  {
   "cell_type": "code",
   "execution_count": null,
   "source": [
    "# set x and y values\r\n",
    "x_values = sh['Lat']\r\n",
    "y_values = sh['Cloudiness']\r\n",
    "# linear regression\r\n",
    "(slope, intercept, rvalue, pvalue, stderr) = linregress(x_values, y_values)\r\n",
    "# variable for calculation of regression line\r\n",
    "regress_values = x_values * slope + intercept\r\n",
    "# variable for equation of slope intercept\r\n",
    "line_eq = \"y = \" + str(round(slope,2)) + \"x + \" + str(round(intercept,2))\r\n",
    "print(f\"The r-value is: {rvalue}\")\r\n",
    "# scatter plot of weight and average tumor volume\r\n",
    "plt.scatter(x_values,y_values, edgecolors='black',s=35)\r\n",
    "# plot the line of the slope intercept equation\r\n",
    "plt.plot(x_values,regress_values,\"red\")\r\n",
    "# style the box for the equation\r\n",
    "le_bbox = dict(boxstyle=\"round,pad=0.5\", fc=\"w\", ec=\"k\", lw=1)\r\n",
    "# add the equation to the plot\r\n",
    "plt.annotate(line_eq,\r\n",
    "            xy=(0, 1.5),\r\n",
    "            xycoords='axes fraction',\r\n",
    "            xytext=(0.7, -.2),\r\n",
    "            bbox=le_bbox)\r\n",
    "# set the title and axis labels\r\n",
    "plt.xlabel('Latitude')\r\n",
    "plt.ylabel('Cloudiness (%)')\r\n",
    "plt.title('Southern Hemisphere - Cloudiness (%) vs. Latitude\\n with Linear Regression')\r\n",
    "plt.savefig(\"../output_data/Southern Hemisphere - Cloudiness (%) vs. Latitude Linear Regression.png\")\r\n",
    "plt.show()"
   ],
   "outputs": [],
   "metadata": {}
  },
  {
   "cell_type": "markdown",
   "source": [
    "####  Northern Hemisphere - Wind Speed (mph) vs. Latitude Linear Regression"
   ],
   "metadata": {}
  },
  {
   "cell_type": "code",
   "execution_count": null,
   "source": [
    "# set x and y values\r\n",
    "x_values = nh['Lat']\r\n",
    "y_values = nh['Wind Speed']\r\n",
    "# linear regression\r\n",
    "(slope, intercept, rvalue, pvalue, stderr) = linregress(x_values, y_values)\r\n",
    "# variable for calculation of regression line\r\n",
    "regress_values = x_values * slope + intercept\r\n",
    "# variable for equation of slope intercept\r\n",
    "line_eq = \"y = \" + str(round(slope,2)) + \"x + \" + str(round(intercept,2))\r\n",
    "print(f\"The r-value is: {rvalue}\")\r\n",
    "# scatter plot of weight and average tumor volume\r\n",
    "plt.scatter(x_values,y_values, edgecolors='black',s=35)\r\n",
    "# plot the line of the slope intercept equation\r\n",
    "plt.plot(x_values,regress_values,\"red\")\r\n",
    "# style the box for the equation\r\n",
    "le_bbox = dict(boxstyle=\"round,pad=0.5\", fc=\"w\", ec=\"k\", lw=1)\r\n",
    "# add the equation to the plot\r\n",
    "plt.annotate(line_eq,\r\n",
    "            xy=(0, 1.5),\r\n",
    "            xycoords='axes fraction',\r\n",
    "            xytext=(0.7, -.2),\r\n",
    "            bbox=le_bbox)\r\n",
    "# set the title and axis labels\r\n",
    "plt.xlabel('Latitude')\r\n",
    "plt.ylabel('Wind Speed')\r\n",
    "plt.title('Northern Hemisphere - Wind Speed (mph) vs. Latitude\\n with Linear Regression')\r\n",
    "plt.savefig(\"../output_data/Northern Hemisphere - Wind Speed (mph) vs. Latitude Linear Regression.png\")\r\n",
    "plt.show()"
   ],
   "outputs": [],
   "metadata": {}
  },
  {
   "cell_type": "markdown",
   "source": [
    "####  Southern Hemisphere - Wind Speed (mph) vs. Latitude Linear Regression"
   ],
   "metadata": {}
  },
  {
   "cell_type": "code",
   "execution_count": null,
   "source": [
    "# set x and y values\r\n",
    "x_values = sh['Lat']\r\n",
    "y_values = sh['Wind Speed']\r\n",
    "# linear regression\r\n",
    "(slope, intercept, rvalue, pvalue, stderr) = linregress(x_values, y_values)\r\n",
    "# variable for calculation of regression line\r\n",
    "regress_values = x_values * slope + intercept\r\n",
    "# variable for equation of slope intercept\r\n",
    "line_eq = \"y = \" + str(round(slope,2)) + \"x + \" + str(round(intercept,2))\r\n",
    "print(f\"The r-value is: {rvalue}\")\r\n",
    "# scatter plot of weight and average tumor volume\r\n",
    "plt.scatter(x_values,y_values, edgecolors='black',s=35)\r\n",
    "# plot the line of the slope intercept equation\r\n",
    "plt.plot(x_values,regress_values,\"red\")\r\n",
    "# style the box for the equation\r\n",
    "le_bbox = dict(boxstyle=\"round,pad=0.5\", fc=\"w\", ec=\"k\", lw=1)\r\n",
    "# add the equation to the plot\r\n",
    "plt.annotate(line_eq,\r\n",
    "            xy=(0, 1.5),\r\n",
    "            xycoords='axes fraction',\r\n",
    "            xytext=(0.7, -.2),\r\n",
    "            bbox=le_bbox)\r\n",
    "# set the title and axis labels\r\n",
    "plt.xlabel('Latitude')\r\n",
    "plt.ylabel('Wind Speed')\r\n",
    "plt.title('Southern Hemisphere - Wind Speed (mph) vs. Latitude\\n with Linear Regression')\r\n",
    "plt.savefig(\"../output_data/Southern Hemisphere - Wind Speed (mph) vs. Latitude Linear Regression.png\")\r\n",
    "plt.show()"
   ],
   "outputs": [],
   "metadata": {}
  },
  {
   "cell_type": "code",
   "execution_count": null,
   "source": [],
   "outputs": [],
   "metadata": {}
  }
 ],
 "metadata": {
  "anaconda-cloud": {},
  "interpreter": {
   "hash": "ad4e1cdc6d2df6b78adfa9d5dade8a91d4fb637b81e67ab4fabe1812f655f6f5"
  },
  "kernel_info": {
   "name": "python3"
  },
  "kernelspec": {
   "name": "python3",
   "display_name": "Python 3.6.10 64-bit ('PyEnv': conda)"
  },
  "language_info": {
   "codemirror_mode": {
    "name": "ipython",
    "version": 3
   },
   "file_extension": ".py",
   "mimetype": "text/x-python",
   "name": "python",
   "nbconvert_exporter": "python",
   "pygments_lexer": "ipython3",
   "version": "3.6.10"
  },
  "latex_envs": {
   "LaTeX_envs_menu_present": true,
   "autoclose": false,
   "autocomplete": true,
   "bibliofile": "biblio.bib",
   "cite_by": "apalike",
   "current_citInitial": 1,
   "eqLabelWithNumbers": true,
   "eqNumInitial": 1,
   "hotkeys": {
    "equation": "Ctrl-E",
    "itemize": "Ctrl-I"
   },
   "labels_anchors": false,
   "latex_user_defs": false,
   "report_style_numbering": false,
   "user_envs_cfg": false
  },
  "nteract": {
   "version": "0.12.3"
  }
 },
 "nbformat": 4,
 "nbformat_minor": 2
}