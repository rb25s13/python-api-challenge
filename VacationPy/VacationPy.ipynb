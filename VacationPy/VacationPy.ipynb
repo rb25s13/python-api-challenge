{
 "cells": [
  {
   "cell_type": "markdown",
   "source": [
    "# VacationPy\n",
    "----\n",
    "\n",
    "#### Note\n",
    "* Keep an eye on your API usage. Use https://developers.google.com/maps/reporting/gmp-reporting as reference for how to monitor your usage and billing.\n",
    "\n",
    "* Instructions have been included for each segment. You do not have to follow them exactly, but they are included to help you think through the steps."
   ],
   "metadata": {}
  },
  {
   "cell_type": "code",
   "execution_count": null,
   "source": [
    "# Dependencies and Setup\r\n",
    "import matplotlib.pyplot as plt\r\n",
    "import pandas as pd\r\n",
    "import numpy as np\r\n",
    "import requests\r\n",
    "import gmaps\r\n",
    "import os\r\n",
    "\r\n",
    "# Import API key\r\n",
    "from api_keys import g_key"
   ],
   "outputs": [],
   "metadata": {}
  },
  {
   "cell_type": "markdown",
   "source": [
    "### Store Part I results into DataFrame\n",
    "* Load the csv exported in Part I to a DataFrame"
   ],
   "metadata": {}
  },
  {
   "cell_type": "code",
   "execution_count": null,
   "source": [
    "cities_df = pd.read_csv('../output_data/cities.csv')\r\n",
    "cities_df.dropna(inplace = True) \r\n",
    "cities_df.head(20)"
   ],
   "outputs": [],
   "metadata": {}
  },
  {
   "cell_type": "markdown",
   "source": [
    "### Humidity Heatmap\n",
    "* Configure gmaps.\n",
    "* Use the Lat and Lng as locations and Humidity as the weight.\n",
    "* Add Heatmap layer to map."
   ],
   "metadata": {}
  },
  {
   "cell_type": "code",
   "execution_count": null,
   "source": [
    "gmaps.configure(api_key=g_key)"
   ],
   "outputs": [],
   "metadata": {}
  },
  {
   "cell_type": "code",
   "execution_count": null,
   "source": [
    "# Store latitude and longitude in locations\r\n",
    "locations = cities_df[[\"Lat\", \"Lng\"]]\r\n",
    "\r\n",
    "# Fill NaN values and convert to float\r\n",
    "humidity = cities_df[\"Humidity\"].astype(float)\r\n",
    "maxi = humidity.max()\r\n",
    "\r\n",
    "# Plot Heatmap\r\n",
    "fig = gmaps.figure(center=(35.0, -30.0), zoom_level=2.4)\r\n",
    "\r\n",
    "# Create heat layer\r\n",
    "heat_layer = gmaps.heatmap_layer(locations, weights=humidity, \r\n",
    "                                 dissipating=False, max_intensity=370,\r\n",
    "                                 point_radius=5)\r\n",
    "\r\n",
    "\r\n",
    "# Add layer\r\n",
    "fig.add_layer(heat_layer)\r\n",
    "\r\n",
    "# Display figure\r\n",
    "fig"
   ],
   "outputs": [],
   "metadata": {}
  },
  {
   "cell_type": "markdown",
   "source": [
    "### Create new DataFrame fitting weather criteria\n",
    "* Narrow down the cities to fit weather conditions.\n",
    "* Drop any rows will null values."
   ],
   "metadata": {}
  },
  {
   "cell_type": "code",
   "execution_count": null,
   "source": [
    "# Good conditions for golf\r\n",
    "#\r\n",
    "# A max temperature lower than 79 degrees but higher than 69.\r\n",
    "# Wind speed less than 5 mph\r\n",
    "# Humidity less than 40\r\n",
    "\r\n",
    "cities_df.head(20)\r\n",
    "hotel_df = cities_df[(cities_df['Max Temp'] < 89) & \r\n",
    "                        (cities_df['Max Temp'] > 69) & \r\n",
    "                        (cities_df['Wind Speed'] < 7) & \r\n",
    "                        (cities_df['Humidity'] < 40)\r\n",
    "                       ]\r\n",
    "hotel_df"
   ],
   "outputs": [],
   "metadata": {}
  },
  {
   "cell_type": "markdown",
   "source": [
    "### Hotel Map\n",
    "* Store into variable named `hotel_df`.\n",
    "* Add a \"Hotel Name\" column to the DataFrame.\n",
    "* Set parameters to search for hotels with 5000 meters.\n",
    "* Hit the Google Places API for each city's coordinates.\n",
    "* Store the first Hotel result into the DataFrame.\n",
    "* Plot markers on top of the heatmap."
   ],
   "metadata": {}
  },
  {
   "cell_type": "code",
   "execution_count": null,
   "source": [
    "hotel_df['Hotel Name'] = \"\"\r\n",
    "hotel_df"
   ],
   "outputs": [],
   "metadata": {}
  },
  {
   "cell_type": "code",
   "execution_count": null,
   "source": [
    "# params dictionary to update each iteration\r\n",
    "params = {\r\n",
    "    \"radius\": 5000,\r\n",
    "    \"types\": \"hotels\",\r\n",
    "    \"keyword\": \"hotel\",\r\n",
    "    \"key\": g_key\r\n",
    "}\r\n",
    "\r\n",
    "# Use the lat/lng we recovered to identify hotels\r\n",
    "for index, row in hotel_df.iterrows():\r\n",
    "    # get lat, lng from df\r\n",
    "    lat = row[\"Lat\"]\r\n",
    "    lng = row[\"Lng\"]\r\n",
    "\r\n",
    "    # change location each iteration while leaving original params in place\r\n",
    "    params[\"location\"] = f\"{lat},{lng}\"\r\n",
    "\r\n",
    "    # Use the search term: \"hotel\" and our lat/lng\r\n",
    "    base_url = \"https://maps.googleapis.com/maps/api/place/nearbysearch/json\"\r\n",
    "\r\n",
    "    # make request and print url\r\n",
    "    name_address = requests.get(base_url, params=params)\r\n",
    "\r\n",
    "    # convert to json\r\n",
    "    name_address = name_address.json()\r\n",
    "    # print(json.dumps(name_address, indent=4, sort_keys=True))\r\n",
    "\r\n",
    "    # try-except to skip any that do not have a hotel nearby\r\n",
    "    try:\r\n",
    "        hotel_df.loc[index, \"Hotel Name\"] = name_address[\"results\"][0][\"name\"]\r\n",
    "    except (KeyError, IndexError):\r\n",
    "        print(\"Missing field/result... skipping.\")\r\n",
    "        \r\n",
    "hotel_df"
   ],
   "outputs": [],
   "metadata": {}
  },
  {
   "cell_type": "code",
   "execution_count": null,
   "source": [
    "# NOTE: Do not change any of the code in this cell\r\n",
    "\r\n",
    "# Using the template add the hotel marks to the heatmap\r\n",
    "info_box_template = \"\"\"\r\n",
    "<dl>\r\n",
    "<dt>Name</dt><dd>{Hotel Name}</dd>\r\n",
    "<dt>City</dt><dd>{City}</dd>\r\n",
    "<dt>Country</dt><dd>{Country}</dd>\r\n",
    "</dl>\r\n",
    "\"\"\"\r\n",
    "# Store the DataFrame Row\r\n",
    "# NOTE: be sure to update with your DataFrame name\r\n",
    "hotel_info = [info_box_template.format(**row) for index, row in hotel_df.iterrows()]\r\n",
    "locations = hotel_df[[\"Lat\", \"Lng\"]]"
   ],
   "outputs": [],
   "metadata": {}
  },
  {
   "cell_type": "code",
   "execution_count": null,
   "source": [
    "hotel_layer = gmaps.marker_layer(locations, info_box_content=[f'{hotel}' for hotel in hotel_info])\r\n",
    "\r\n",
    "fig = gmaps.figure(center=(30.0, -30.0), zoom_level=2)\r\n",
    "fig.add_layer(heat_layer)\r\n",
    "fig.add_layer(hotel_layer)\r\n",
    "\r\n",
    "fig"
   ],
   "outputs": [],
   "metadata": {}
  }
 ],
 "metadata": {
  "interpreter": {
   "hash": "ad4e1cdc6d2df6b78adfa9d5dade8a91d4fb637b81e67ab4fabe1812f655f6f5"
  },
  "kernelspec": {
   "name": "python3",
   "display_name": "Python 3.6.10 64-bit ('PyEnv': conda)"
  },
  "language_info": {
   "codemirror_mode": {
    "name": "ipython",
    "version": 3
   },
   "file_extension": ".py",
   "mimetype": "text/x-python",
   "name": "python",
   "nbconvert_exporter": "python",
   "pygments_lexer": "ipython3",
   "version": "3.6.10"
  },
  "latex_envs": {
   "LaTeX_envs_menu_present": true,
   "autoclose": false,
   "autocomplete": true,
   "bibliofile": "biblio.bib",
   "cite_by": "apalike",
   "current_citInitial": 1,
   "eqLabelWithNumbers": true,
   "eqNumInitial": 1,
   "hotkeys": {
    "equation": "Ctrl-E",
    "itemize": "Ctrl-I"
   },
   "labels_anchors": false,
   "latex_user_defs": false,
   "report_style_numbering": false,
   "user_envs_cfg": false
  }
 },
 "nbformat": 4,
 "nbformat_minor": 4
}